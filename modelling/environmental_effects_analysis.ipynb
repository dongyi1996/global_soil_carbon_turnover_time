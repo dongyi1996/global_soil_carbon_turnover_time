{
 "cells": [
  {
   "cell_type": "code",
   "execution_count": 1,
   "id": "f629553c-461d-4a63-9fbd-20545b077d4f",
   "metadata": {},
   "outputs": [],
   "source": [
    "import numpy as np\n",
    "import pandas as pd\n",
    "import matplotlib.pyplot as plt\n",
    "import seaborn as sns\n",
    "import xarray as xr\n",
    "import cartopy.feature as cfeature\n",
    "import cartopy.crs as ccrs\n",
    "from cartopy.mpl.ticker import LongitudeFormatter, LatitudeFormatter\n",
    "from sklearn import preprocessing, ensemble, metrics, linear_model, model_selection, inspection\n",
    "import datetime as dt\n",
    "from scipy import interpolate\n",
    "from tqdm import tqdm\n",
    "from pprint import pprint"
   ]
  },
  {
   "cell_type": "markdown",
   "id": "7d5acf6d-773a-4a43-9471-fca0b83dd93f",
   "metadata": {
    "tags": []
   },
   "source": [
    "# Functions need to be used"
   ]
  },
  {
   "cell_type": "code",
   "execution_count": 2,
   "id": "6366d27a-779a-45a9-9fd5-c7dfab21d4a5",
   "metadata": {},
   "outputs": [],
   "source": [
    "biome_name_list = ['Tropical forests', 'Temperate forests', 'Boreal forests', 'Tropical savannahs and grasslands', 'Temperate grasslands and shrublands', 'Deserts', 'Tundra', 'Croplands']\n",
    "\n",
    "var_category_dict = {\n",
    "    'Climate':       ['aridity', 'bio01', 'bio02', 'bio03', 'bio04', 'bio05', 'bio06', 'bio07', 'bio08', 'bio09', 'bio10', 'bio11', 'bio12', 'bio13', 'bio14', 'bio15', 'bio16', 'bio17', 'bio18','bio19'],\n",
    "    'Soil_physical': ['clay_0to30', 'sand_0to30', 'silt_0to30', 'clay_30to100', 'sand_30to100', 'silt_30to100'],\n",
    "    'Soil_chemical': ['cec_0to30', 'nitrogen_0to30', 'ph_0to30', 'cec_30to100', 'nitrogen_30to100', 'ph_30to100'],\n",
    "    'Topography':    ['elev', 'slp', 'cti', 'tri', 'vrm', 'roughness', 'tpi', 'spi']\n",
    "}\n",
    "\n",
    "color_category_dict = {\n",
    "    'Climate':       '#0080FF',\n",
    "    'Soil_physical': '#BA55D3', #'#FD7FFE'\n",
    "    'Soil_chemical': '#FF7F02',\n",
    "    'Topography':    '#00AA00'\n",
    "}\n",
    "\n",
    "x_names_topsoil = [\n",
    "                   'elev', 'slp', 'cti', 'tri', 'vrm', 'roughness', 'tpi', 'spi',\n",
    "                   'bio01', 'bio12',\n",
    "                   'cec_0to30', 'clay_0to30', 'nitrogen_0to30', 'ph_0to30', 'sand_0to30', 'silt_0to30',\n",
    "                  ]\n",
    "x_names_subsoil = [\n",
    "                   'elev', 'slp', 'cti', 'tri', 'vrm', 'roughness', 'tpi', 'spi',\n",
    "                   'bio01', 'bio12',\n",
    "                   'cec_30to100', 'clay_30to100', 'nitrogen_30to100', 'ph_30to100', 'sand_30to100', 'silt_30to100',\n",
    "                  ]"
   ]
  },
  {
   "cell_type": "code",
   "execution_count": 3,
   "id": "dfb086ca-4abe-4bd3-b034-94dd4af8af79",
   "metadata": {},
   "outputs": [],
   "source": [
    "def get_color_by_varname(var_name):\n",
    "    color = 'black'\n",
    "    for category in list(var_category_dict.keys()):\n",
    "        if var_name in var_category_dict[category]:\n",
    "            color = color_category_dict[category]\n",
    "            break\n",
    "    return color\n",
    "\n",
    "def data_sampling(df, sample_size=100, group_name='biome_type_name', rand_seed=314):\n",
    "    df_sampled = df.groupby(group_name, group_keys=False).apply(lambda x: x.sample(n=sample_size, random_state=rand_seed, replace=True)).reset_index(drop=True)\n",
    "    # print(df_sampled.groupby('biome_type_name').agg({'profile_id': 'count'}).iloc[[5, 3, 0, 6, 4, 2, 7, 1]])\n",
    "    return df_sampled\n",
    "\n",
    "def data_sampling_by_weight(df, sample_size=100, weights_colname='sample_weight', rand_seed=314):\n",
    "    df_sampled = df.sample(n=sample_size, weights=weights_colname, replace=True, random_state=rand_seed).reset_index(drop=True)\n",
    "    # print(df_sampled.groupby('biome_type_name').agg({'profile_id': 'count'}).iloc[[5, 3, 0, 6, 4, 2, 7, 1]])\n",
    "    return df_sampled\n",
    "\n",
    "def get_category_importance(var_names, importances):\n",
    "    df_category_importance = pd.DataFrame()\n",
    "    category_list = []\n",
    "    importance_list = []\n",
    "    summary_list = []\n",
    "    for category in list(var_category_dict.keys()):\n",
    "        var_list = var_category_dict[category]\n",
    "        importance_cate_list = []\n",
    "        importance_category = 0.0\n",
    "        for i in range(len(var_names)):\n",
    "            if var_names[i] in var_list:\n",
    "                importance_cate_list.append(importances[i])\n",
    "        if len(importance_cate_list) > 0:\n",
    "            # importance_category = np.mean(importance_cate_list)  # determing the category importance by using the mean of variable importances in each category\n",
    "            importance_category = np.max(importance_cate_list)  # determing the category importance by using the max of variable importances in each category\n",
    "            # importance_category = np.sum(importance_cate_list)  # determing the category importance by using the sum of variable importances in each category\n",
    "            # importance_category = np.sum([v * v / np.sum(importance_cate_list) for v in importance_cate_list])  # determing the category importance by using the weighted averaged variable importances in each category (the weight is proportional to the importance)\n",
    "        category_list.append(category)\n",
    "        importance_list.append(importance_category)\n",
    "    importance_list = [v / np.sum(importance_list) for v in importance_list]\n",
    "    for i in range(len(list(var_category_dict.keys()))):\n",
    "        category = list(var_category_dict.keys())[i]\n",
    "        # summary_list.append('{} ({:.1f}%)'.format(category, importance_list[i]*100))\n",
    "        summary_list.append('{:.1f}%'.format(importance_list[i]*100))\n",
    "    df_category_importance['category'] = category_list\n",
    "    df_category_importance['importance'] = importance_list\n",
    "    df_category_importance['summary'] = summary_list\n",
    "    return df_category_importance\n",
    "\n",
    "def calc_feat_importance(x, y, model=None, method='permutation', cv=5, rand_seed=314):\n",
    "    \"\"\"\n",
    "    method: 'normal' or 'permutation'\n",
    "    \"\"\"\n",
    "    if model is None:\n",
    "        model = ensemble.RandomForestRegressor(n_estimators=100, random_state=rand_seed)\n",
    "    \n",
    "    if method == 'normal':\n",
    "        model.fit(x, y)\n",
    "        # y_pred = model.predict(x)\n",
    "        # r2 = metrics.r2_score(y, y_pred)\n",
    "        # print('R2_score = {:.3f}'.format(r2))\n",
    "        importances = model.feature_importances_\n",
    "        sorted_id_list = np.argsort(importances)[::-1]\n",
    "        sorted_x_names = [x_names[i] for i in sorted_id_list]\n",
    "        sorted_importances = [np.round(importances[i], 3) for i in sorted_id_list]\n",
    "    else:\n",
    "        importances = []\n",
    "        for cv_id in range(cv):\n",
    "            x_train, x_val, y_train, y_val = model_selection.train_test_split(x, y, test_size=0.25, random_state=rand_seed)\n",
    "            model.fit(x_train, y_train)\n",
    "            r = inspection.permutation_importance(model, x_val, y_val, n_repeats=5, n_jobs=8, random_state=0)\n",
    "            importances.append(list(r.importances_mean))\n",
    "        importances = np.mean(importances, axis=0)\n",
    "        sorted_id_list = np.argsort(importances)[::-1]\n",
    "        sorted_x_names_ = [x_names[i] for i in sorted_id_list]\n",
    "        sorted_importances_ = [np.round(importances[i], 3) for i in sorted_id_list]\n",
    "        sorted_x_names = []\n",
    "        sorted_importances = []\n",
    "        for i in range(len(sorted_importances_)):\n",
    "            if sorted_importances_[i] > 0:\n",
    "                sorted_x_names.append(sorted_x_names_[i])\n",
    "                sorted_importances.append(sorted_importances_[i])\n",
    "    \n",
    "    return sorted_x_names, sorted_importances"
   ]
  },
  {
   "cell_type": "markdown",
   "id": "8c61feeb-dc24-403e-b63a-52c55da740f8",
   "metadata": {},
   "source": [
    "# Feature importance by RF"
   ]
  },
  {
   "cell_type": "code",
   "execution_count": 4,
   "id": "08a1b601-a6ab-4f93-b6fd-0ebeb69fccb8",
   "metadata": {},
   "outputs": [
    {
     "name": "stdout",
     "output_type": "stream",
     "text": [
      "(46237, 99)\n",
      "['profile_id', 'country_id', 'country_name', 'latitude', 'longitude', 'SOCS_0to30', 'SOCS_30to100', 'biome', 'biome_type_0', 'biome_type_name_0', 'landcover', 'landcover_prop', 'biome_type', 'biome_type_name', 'npp_modis', 'rmf', 'agb', 'bgb', 'smp', 'fbgb', 'frbnpp_0to30', 'frbnpp_30to100', 'agb_unc', 'bgb_unc', 'frbnpp_0to30_sd', 'frbnpp_30to100_sd', 'frbnpp_0to30_unc', 'frbnpp_30to100_unc', 'bnpp', 'tovr_0to30', 'tovr_30to100', 'tovr_0to30_log', 'tovr_30to100_log', 'tovr_sub2top', 'fbgb_sd', 'tovr_0to30_sd', 'tovr_30to100_sd', 'clay_0to30', 'clay_30to100', 'sand_0to30', 'sand_30to100', 'silt_0to30', 'silt_30to100', 'nitrogen_0to30', 'nitrogen_30to100', 'ph_0to30', 'ph_30to100', 'cec_0to30', 'cec_30to100', 'bdod_pred_0to30', 'bdod_pred_30to100', 'cec_pred_0to30', 'cec_pred_30to100', 'cfvo_pred_0to30', 'cfvo_pred_30to100', 'clay_pred_0to30', 'clay_pred_30to100', 'nitrogen_pred_0to30', 'nitrogen_pred_30to100', 'ocd_pred_0to30', 'ocd_pred_30to100', 'phh2o_pred_0to30', 'phh2o_pred_30to100', 'sand_pred_0to30', 'sand_pred_30to100', 'silt_pred_0to30', 'silt_pred_30to100', 'soc_pred_0to30', 'soc_pred_30to100', 'bio01', 'bio02', 'bio03', 'bio04', 'bio05', 'bio06', 'bio07', 'bio08', 'bio09', 'bio10', 'bio11', 'bio12', 'bio13', 'bio14', 'bio15', 'bio16', 'bio17', 'bio18', 'bio19', 'aridity', 'elev', 'slp', 'cti', 'tri', 'vrm', 'roughness', 'tpi', 'spi', 'evi', 'pop']\n"
     ]
    }
   ],
   "source": [
    "df = pd.read_csv('../datasets/processed/df_samples_with_covariates.csv')\n",
    "print(df.shape)\n",
    "print(list(df.columns))"
   ]
  },
  {
   "cell_type": "code",
   "execution_count": 6,
   "id": "10bf4203-55b5-48c2-b7d5-8215c68d0c72",
   "metadata": {},
   "outputs": [
    {
     "name": "stdout",
     "output_type": "stream",
     "text": [
      "*** tovr_0to30_log ***\n",
      "Global\n"
     ]
    },
    {
     "data": {
      "image/png": "[encoded data removed]",
      "text/plain": [
       "<Figure size 280x420 with 1 Axes>"
      ]
     },
     "metadata": {
      "needs_background": "light"
     },
     "output_type": "display_data"
    },
    {
     "data": {
      "image/png": "[encoded data removed]",
      "text/plain": [
       "<Figure size 210x210 with 1 Axes>"
      ]
     },
     "metadata": {},
     "output_type": "display_data"
    },
    {
     "name": "stdout",
     "output_type": "stream",
     "text": [
      "\n",
      "******\n",
      "\n",
      "*** tovr_30to100_log ***\n",
      "Global\n"
     ]
    },
    {
     "data": {
      "image/png": "[encoded data removed]",
      "text/plain": [
       "<Figure size 280x420 with 1 Axes>"
      ]
     },
     "metadata": {
      "needs_background": "light"
     },
     "output_type": "display_data"
    },
    {
     "data": {
      "image/png": "[encoded data removed]",
      "text/plain": [
       "<Figure size 210x210 with 1 Axes>"
      ]
     },
     "metadata": {},
     "output_type": "display_data"
    },
    {
     "name": "stdout",
     "output_type": "stream",
     "text": [
      "\n",
      "******\n",
      "\n"
     ]
    }
   ],
   "source": [
    "biome_type_name_list = ['Global']\n",
    "# biome_name_list = ['Tropical forests', 'Temperate forests', 'Boreal forests', 'Tropical savannahs and grasslands', 'Temperate grasslands and shrublands', 'Deserts', 'Tundra', 'Croplands']\n",
    "# biome_type_name_list = biome_name_list\n",
    "y_names = ['tovr_0to30_log', 'tovr_30to100_log'] # 'tovr_sub2top'\n",
    "sample_size = 1000\n",
    "rand_seed = 314\n",
    "\n",
    "for y_name in y_names:\n",
    "    print('*** {} ***'.format(y_name))\n",
    "    if '0to30' in y_name:\n",
    "        x_names = x_names_topsoil\n",
    "    else:\n",
    "        x_names = x_names_subsoil\n",
    "    for biome_type_name in biome_type_name_list:\n",
    "        print(biome_type_name)\n",
    "        if biome_type_name == 'Global':\n",
    "            df_biome = df.reset_index(drop=True).copy()\n",
    "        else:\n",
    "            df_biome = df[df['biome_type_name'] == biome_type_name].reset_index(drop=True)\n",
    "        df_biome = df_biome[[y_name] + x_names + ['biome_type_name']].dropna().reset_index(drop=True)\n",
    "        \n",
    "        # df_biome = data_sampling(df=df_biome, sample_size=sample_size, group_name='biome_type_name', rand_seed=314)\n",
    "        \n",
    "        x = np.array(df_biome[x_names])\n",
    "        y = np.array(df_biome[y_name])\n",
    "        # print(x.shape, y.shape)\n",
    "        \n",
    "        np.random.seed(rand_seed)\n",
    "        model = ensemble.RandomForestRegressor(n_estimators=100, random_state=rand_seed)\n",
    "        # sorted_x_names, sorted_importances = calc_feat_importance(x=x, y=y, model=model, method='normal', rand_seed=rand_seed)\n",
    "        sorted_x_names, sorted_importances = calc_feat_importance(x=x, y=y, model=model, method='permutation', cv=5, rand_seed=rand_seed)\n",
    "        \n",
    "        df_res_feat_importance = pd.DataFrame()\n",
    "        df_res_feat_importance['varname'] = sorted_x_names\n",
    "        df_res_feat_importance['importance'] = sorted_importances\n",
    "        # df_res_feat_importance.to_csv('./results/df_res_feat_importance_{}_{}.csv'.format(y_name, biome_type_name), index=False)\n",
    "        \n",
    "        plt.figure(figsize=(4, 6), dpi=70)\n",
    "        colors = [get_color_by_varname(var_name=var_name) for var_name in sorted_x_names]\n",
    "        plt.barh(sorted_x_names[::-1], sorted_importances[::-1], color=colors[::-1])\n",
    "        plt.title('{} - {}'.format(y_name, biome_type_name))\n",
    "        # plt.savefig('./figure/feature_importances_{}_{}.jpg'.format(y_name, biome_type_name), bbox_inches='tight', dpi=600)\n",
    "        plt.show()\n",
    "        \n",
    "        df_category_importance = get_category_importance(var_names=sorted_x_names, importances=sorted_importances)\n",
    "        plt.figure(figsize=(3, 3), dpi=70)\n",
    "        # plt.pie(df_category_importance['importance'], labels=df_category_importance['summary'], normalize=True, wedgeprops={'width': 0.4}, colors=list(color_category_dict.values()))\n",
    "        plt.pie(df_category_importance['importance'], labels=df_category_importance['category'], wedgeprops={'width': 0.4}, colors=list(color_category_dict.values()))\n",
    "        # plt.savefig('./figure/category_importances_{}_{}.jpg'.format(y_name, biome_type_name), bbox_inches='tight', dpi=600)\n",
    "        plt.show()\n",
    "        print()\n",
    "    print('******\\n')"
   ]
  }
 ],
 "metadata": {
  "kernelspec": {
   "display_name": "Python 3 (ipykernel)",
   "language": "python",
   "name": "python3"
  },
  "language_info": {
   "codemirror_mode": {
    "name": "ipython",
    "version": 3
   },
   "file_extension": ".py",
   "mimetype": "text/x-python",
   "name": "python",
   "nbconvert_exporter": "python",
   "pygments_lexer": "ipython3",
   "version": "3.10.5"
  }
 },
 "nbformat": 4,
 "nbformat_minor": 5
}
